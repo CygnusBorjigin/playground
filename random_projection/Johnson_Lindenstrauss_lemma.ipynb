{
 "cells": [
  {
   "cell_type": "markdown",
   "metadata": {},
   "source": [
    "# Random Projection simulation based on Johnson Lindenstrauss Lemma\n",
    "\n",
    "Given $\\epsilon, \\beta > 0$ let $k_0 = \\frac{4+2\\beta}{\\epsilon^2/2 - \\epsilon^3/3}\\log{n}$. For every integer $k\\ge k_0$, let $R$ be a $d\\times k$ random matrix with $R(i,j) = r_{ij}$ where each $r_{ij}$ are independent random variables with pmf:\n",
    "\n",
    "$r_{ij} = \\sqrt{3}\\times\\begin{cases}\n",
    "+1 & \\text{w/ prob } 1/6\\\\\n",
    "0  & \\text{w/ prob } 2/3\\\\\n",
    "-1 & \\text{w/ prob } 1/6\n",
    "\\end{cases}$\n",
    "\n",
    "Let $f: \\mathbb{R}^{d} \\rightarrow \\mathbb{R}^{k} = \\frac{1}{\\sqrt{k}}R$\n",
    "\n",
    "With probability at least $1-n^{-\\beta}$, for all $u,v\\in P$\n",
    "$$(1-\\epsilon)||u-v||_2^2 \\le ||\\frac{1}{\\sqrt{k}}Ru-\\frac{1}{\\sqrt{k}}Rv||_2^2 \\le (1+\\epsilon)||u-v||_2^2$$\n",
    "\n",
    "Work credit: http://people.ee.duke.edu/~lcarin/p93.pdf"
   ]
  },
  {
   "cell_type": "code",
   "execution_count": 4,
   "metadata": {},
   "outputs": [],
   "source": [
    "import numpy as np\n",
    "from tqdm import tqdm\n",
    "import math\n"
   ]
  },
  {
   "cell_type": "code",
   "execution_count": 1,
   "metadata": {},
   "outputs": [],
   "source": [
    "def create_matrix (k, d):\n",
    "    result = np.ones((k, d))\n",
    "    for i in tqdm(range(len(result)), desc=\"populating matrix\"):\n",
    "        for j in range(len(result[i])):\n",
    "            seed = np.random.randint(1, 7)\n",
    "            if seed == 1:\n",
    "                result[i, j] = 3**0.5\n",
    "            elif seed == 6:\n",
    "                result[i, j] = (-1)*(3**0.5)\n",
    "            else:\n",
    "                result[i, j] = 0\n",
    "    return result\n",
    "\n",
    "def valudiate (m):\n",
    "    neg_sqrt_3 = 0\n",
    "    sqrt_3 = 0\n",
    "    zero = 0\n",
    "    for i in range(np.shape(m)[0]):\n",
    "        for j in range(np.shape(m)[1]):\n",
    "            if m[i, j] == 3**0.5:\n",
    "                sqrt_3 += 1\n",
    "            elif m[i, j] == (-1)*3**0.5:\n",
    "                neg_sqrt_3 += 1\n",
    "            elif m[i, j] == 0:\n",
    "                zero += 1\n",
    "            else:\n",
    "                print(\"error\")\n",
    "    return [sqrt_3, neg_sqrt_3, zero]"
   ]
  },
  {
   "cell_type": "code",
   "execution_count": 5,
   "metadata": {},
   "outputs": [],
   "source": [
    "def sparse_jl(a, e, b, k):\n",
    "    n, d = np.shape(a)\n",
    "    k0 = (4 + 2 * b)/(((e**2) / 2) - ((e**3) / 3)) * math.log(n)\n",
    "    if k < k0:\n",
    "        print(\"k0 is \" + str(k0))\n",
    "        return []\n",
    "    else:\n",
    "        result = np.ones((k, d))\n",
    "        for i in range(len(result)):\n",
    "            for j in range(len(result[i])):\n",
    "                seed = np.random.randint(1, 7)\n",
    "                if seed == 1:\n",
    "                    result[i, j] = 3**0.5\n",
    "                elif seed == 6:\n",
    "                    result[i, j] = (-1)*(3**0.5)\n",
    "                else:\n",
    "                    result[i, j] = 0\n",
    "    return np.matmul(a, np.transpose(result))\n"
   ]
  },
  {
   "cell_type": "markdown",
   "metadata": {},
   "source": [
    "# Las-Vegas Version of the above random projection"
   ]
  },
  {
   "cell_type": "code",
   "execution_count": 6,
   "metadata": {},
   "outputs": [],
   "source": [
    "def validate(matrix, epsilon, row):\n",
    "    uv_combo = [[a, b] for a in range(row) for b in range(row) if a != b]\n",
    "    for i in uv_combo:\n",
    "        u = matrix[i[0]]\n",
    "        v = matrix[i[1]]\n",
    "        lower_bound = (1 - epsilon) * np.linalg.norm(np.subtract(u, v))**2\n",
    "        upper_bound = (1 + epsilon) * np.linalg.norm(np.subtract(u, v))**2\n",
    "        verify = np.linalg.norm(\n",
    "            ((1/(row**0.5)) * np.matmul(matrix, u) - (1/(row**0.5)) * np.matmul(matrix, v)))\n",
    "        #print(\"lower bound: \" + str(lower_bound) + \" value is: \" + str(verify) + \" upper bound: \" + str(upper_bound))\n",
    "        if lower_bound > verify or upper_bound < verify:\n",
    "            return False\n",
    "    return True\n"
   ]
  },
  {
   "cell_type": "code",
   "execution_count": 7,
   "metadata": {},
   "outputs": [],
   "source": [
    "def las_vegas_jl(a, e, b, k):\n",
    "    succeeded = False\n",
    "    final_result = []\n",
    "    count = 0\n",
    "    while succeeded == False:\n",
    "        result = sparse_jl(a, e, b, k)\n",
    "        count += 1\n",
    "        succeeded = validate(result, e, np.shape(result)[0])\n",
    "        final_result = result\n",
    "    return (final_result, count)\n"
   ]
  }
 ],
 "metadata": {
  "interpreter": {
   "hash": "31f2aee4e71d21fbe5cf8b01ff0e069b9275f58929596ceb00d14d90e3e16cd6"
  },
  "kernelspec": {
   "display_name": "Python 3.8.9 64-bit",
   "language": "python",
   "name": "python3"
  },
  "language_info": {
   "codemirror_mode": {
    "name": "ipython",
    "version": 3
   },
   "file_extension": ".py",
   "mimetype": "text/x-python",
   "name": "python",
   "nbconvert_exporter": "python",
   "pygments_lexer": "ipython3",
   "version": "3.7.6"
  },
  "orig_nbformat": 4
 },
 "nbformat": 4,
 "nbformat_minor": 2
}
